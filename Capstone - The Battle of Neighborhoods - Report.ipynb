{
    "cells": [
        {
            "cell_type": "markdown",
            "metadata": {
                "collapsed": true
            },
            "source": "# Capstone Project: Brooklyn #"
        },
        {
            "cell_type": "markdown",
            "metadata": {},
            "source": "## 1. Introduction: Description of the problem and discussion of the background ##"
        },
        {
            "cell_type": "markdown",
            "metadata": {},
            "source": "When moving to a new city, one faces several challenges like selecting the perfect location to stay and which neighborhoods are good for living. A friend of mine was planning to move to NY and wanted to live in Brooklyn. However, she did not know what neighborhoods were similar and what kind of venues could be found in each location. The following project intends to put some light into the different similar neighborhoods in Brooklyn and to cluster them according to their characteristics in order to give the best recommendation to my friend."
        },
        {
            "cell_type": "markdown",
            "metadata": {},
            "source": "## 2. Description of the data and how it will be used to solve the problem ##"
        },
        {
            "cell_type": "markdown",
            "metadata": {},
            "source": "First, I will use the dataset provided in the following website: https://geo.nyu.edu/catalog/nyu_2451_34572\nThe dataset contains the different neighborhoods that exist in each borough in New York as well as the the latitude and longitude coordinates of each neighborhood."
        },
        {
            "cell_type": "markdown",
            "metadata": {},
            "source": "Additionally, I will also include the information of the different venues that exist in each neighborhood by using Foursquare."
        },
        {
            "cell_type": "markdown",
            "metadata": {},
            "source": "By merging the information of each neighborhood and the venues in Brooklyn, I will be able to create different clusters of neighborhoods in the bo"
        }
    ],
    "metadata": {
        "kernelspec": {
            "display_name": "Python 3.6",
            "language": "python",
            "name": "python3"
        },
        "language_info": {
            "codemirror_mode": {
                "name": "ipython",
                "version": 3
            },
            "file_extension": ".py",
            "mimetype": "text/x-python",
            "name": "python",
            "nbconvert_exporter": "python",
            "pygments_lexer": "ipython3",
            "version": "3.6.9"
        }
    },
    "nbformat": 4,
    "nbformat_minor": 1
}